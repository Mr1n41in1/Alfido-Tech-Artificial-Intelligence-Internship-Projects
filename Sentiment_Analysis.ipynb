{
  "nbformat": 4,
  "nbformat_minor": 0,
  "metadata": {
    "colab": {
      "provenance": []
    },
    "kernelspec": {
      "name": "python3",
      "display_name": "Python 3"
    },
    "language_info": {
      "name": "python"
    }
  },
  "cells": [
    {
      "cell_type": "markdown",
      "metadata": {
        "id": "b4b70d48"
      },
      "source": [
        "# Task\n",
        "Perform sentiment analysis on text data using spaCy."
      ]
    },
    {
      "cell_type": "markdown",
      "metadata": {
        "id": "e682bdb8"
      },
      "source": [
        "## Install spacy and a language model\n",
        "\n",
        "### Subtask:\n",
        "Install the necessary libraries.\n"
      ]
    },
    {
      "cell_type": "markdown",
      "metadata": {
        "id": "3d093a29"
      },
      "source": [
        "**Reasoning**:\n",
        "Install spaCy and the 'en_core_web_sm' model using pip and the spaCy download command.\n",
        "\n"
      ]
    },
    {
      "cell_type": "code",
      "metadata": {
        "id": "e963dd38"
      },
      "source": [
        "%pip install spacy\n",
        "%python -m spacy download en_core_web_sm"
      ],
      "execution_count": null,
      "outputs": []
    },
    {
      "cell_type": "markdown",
      "metadata": {
        "id": "00247abe"
      },
      "source": [
        "## Load the language model\n",
        "\n",
        "### Subtask:\n",
        "Load a pre-trained spaCy language model with a built-in sentiment analysis component.\n"
      ]
    },
    {
      "cell_type": "markdown",
      "metadata": {
        "id": "867ff41a"
      },
      "source": [
        "**Reasoning**:\n",
        "Import the spacy library and load the 'en_core_web_sm' language model with sentiment analysis component.\n",
        "\n"
      ]
    },
    {
      "cell_type": "code",
      "metadata": {
        "id": "e5984182"
      },
      "source": [
        "import spacy\n",
        "\n",
        "nlp = spacy.load('en_core_web_sm')"
      ],
      "execution_count": null,
      "outputs": []
    },
    {
      "cell_type": "markdown",
      "metadata": {
        "id": "38d60929"
      },
      "source": [
        "## Process text and analyze sentiment\n",
        "\n",
        "### Subtask:\n",
        "Apply the loaded model to the text data and extract sentiment scores.\n"
      ]
    },
    {
      "cell_type": "markdown",
      "metadata": {
        "id": "4d850308"
      },
      "source": [
        "**Reasoning**:\n",
        "Apply the loaded model to the text data and extract sentiment scores according to the instructions.\n",
        "\n"
      ]
    },
    {
      "cell_type": "code",
      "metadata": {
        "id": "e08fa197"
      },
      "source": [
        "# 1. Define a sample text string for sentiment analysis.\n",
        "text = \"This is a wonderful day! I am so happy.\"\n",
        "\n",
        "# 2. Apply the loaded spaCy model (`nlp`) to the sample text to create a `Doc` object.\n",
        "doc = nlp(text)\n",
        "\n",
        "# 3. Check if the loaded model has a 'textcat' pipeline component.\n",
        "if 'textcat' in nlp.pipe_names:\n",
        "    # 4. If a 'textcat' component exists, access the sentiment scores.\n",
        "    sentiment_scores = doc.cats\n",
        "    print(f\"Sentiment scores: {sentiment_scores}\")\n",
        "else:\n",
        "    # 5. If a 'textcat' component does not exist, print a message and explanation.\n",
        "    print(\"The loaded model does not have a built-in 'textcat' component for direct sentiment analysis.\")\n",
        "    print(\"Sentiment analysis with spaCy often requires training a custom 'textcat' model,\")\n",
        "    print(\"using a dedicated sentiment component from an external library, or building upon\")\n",
        "    print(\"linguistic features provided by the model (like word embeddings or dependencies).\")"
      ],
      "execution_count": null,
      "outputs": []
    },
    {
      "cell_type": "markdown",
      "metadata": {
        "id": "fe92e956"
      },
      "source": [
        "## Interpret sentiment scores\n",
        "\n",
        "### Subtask:\n",
        "Explain how to interpret the sentiment scores obtained from spaCy.\n"
      ]
    },
    {
      "cell_type": "markdown",
      "metadata": {
        "id": "1306300a"
      },
      "source": [
        "**Reasoning**:\n",
        "Provide a theoretical explanation of how to interpret sentiment scores from a spaCy 'textcat' component, as the loaded model did not have one.\n",
        "\n"
      ]
    },
    {
      "cell_type": "code",
      "metadata": {
        "id": "34d00170"
      },
      "source": [
        "# 1. Describe how sentiment scores are typically represented in spaCy when using a 'textcat' component.\n",
        "print(\"In spaCy, when a 'textcat' component is present, sentiment scores are typically represented as a dictionary.\")\n",
        "print(\"This dictionary maps category labels (e.g., 'POSITIVE', 'NEGATIVE', 'NEUTRAL') to their corresponding probability scores or confidence levels for the input text.\")\n",
        "print(\"Example: {'POSITIVE': 0.85, 'NEGATIVE': 0.10, 'NEUTRAL': 0.05}\")\n",
        "print(\"-\" * 50)\n",
        "\n",
        "# 2. Explain what the values in the sentiment score dictionary represent.\n",
        "print(\"The values in the sentiment score dictionary represent the model's confidence that the text belongs to each specific sentiment category.\")\n",
        "print(\"These values are usually between 0 and 1.\")\n",
        "print(\"A higher score for a particular category indicates a stronger likelihood, according to the model, that the text expresses that sentiment.\")\n",
        "print(\"For instance, in the example above, a score of 0.85 for 'POSITIVE' suggests a high probability that the text has a positive sentiment.\")\n",
        "print(\"-\" * 50)\n",
        "\n",
        "# 3. Discuss how to determine the overall sentiment from the scores.\n",
        "print(\"To determine the overall sentiment, you typically look for the category with the highest score.\")\n",
        "print(\"If the 'textcat' component is trained for multiple categories (e.g., positive, negative, neutral), the category with the maximum score is considered the predicted sentiment.\")\n",
        "print(\"For binary classification (e.g., positive/negative), a common approach is to compare the scores directly.\")\n",
        "print(\"For example, if 'POSITIVE' has a higher score than 'NEGATIVE', the text is classified as positive.\")\n",
        "print(\"Sometimes, a threshold might be used; for example, if the 'POSITIVE' score is above a certain threshold (e.g., 0.7), it's considered positive, otherwise potentially neutral or negative depending on the setup.\")\n",
        "print(\"-\" * 50)\n",
        "\n",
        "# 4. Mention that the interpretation might vary depending on how the 'textcat' component was trained.\n",
        "print(\"It's important to note that the specific categories and the meaning of the scores depend entirely on how the 'textcat' component was trained.\")\n",
        "print(\"The model might have been trained on a specific dataset with a unique definition of sentiment categories.\")\n",
        "print(\"Therefore, understanding the training data and the intended use of the model is crucial for accurate interpretation.\")\n",
        "print(\"-\" * 50)\n",
        "\n",
        "# 5. Acknowledge that this is a theoretical explanation.\n",
        "print(\"As noted in the previous step, the loaded 'en_core_web_sm' model did not have a 'textcat' component.\")\n",
        "print(\"This explanation is theoretical, describing how you would interpret sentiment scores *if* a suitable component were present in the loaded spaCy model.\")"
      ],
      "execution_count": null,
      "outputs": []
    },
    {
      "cell_type": "markdown",
      "metadata": {
        "id": "f047adfc"
      },
      "source": [
        "## Summary:\n",
        "\n",
        "### Data Analysis Key Findings\n",
        "\n",
        "*   The `en_core_web_sm` spaCy model does not include a built-in 'textcat' component for direct sentiment analysis.\n",
        "*   Sentiment scores in spaCy, when a 'textcat' component is present, are typically represented as a dictionary mapping category labels (e.g., 'POSITIVE', 'NEGATIVE') to probability scores between 0 and 1.\n",
        "*   A higher score for a specific category indicates a stronger likelihood that the text expresses that sentiment.\n",
        "*   The overall sentiment is usually determined by identifying the category with the highest score.\n",
        "*   The interpretation of sentiment scores depends on how the 'textcat' component was trained.\n",
        "\n",
        "### Insights or Next Steps\n",
        "\n",
        "*   To perform sentiment analysis with spaCy, either a model with a pre-trained 'textcat' component or a custom-trained 'textcat' component needs to be used.\n",
        "*   Alternatively, sentiment analysis can be performed by building upon linguistic features provided by the model or by using external libraries integrated with spaCy.\n"
      ]
    }
  ]
}