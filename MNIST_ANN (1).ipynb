{
  "nbformat": 4,
  "nbformat_minor": 0,
  "metadata": {
    "colab": {
      "provenance": []
    },
    "kernelspec": {
      "name": "python3",
      "display_name": "Python 3"
    },
    "language_info": {
      "name": "python"
    }
  },
  "cells": [
    {
      "cell_type": "code",
      "source": [
        "# Load the dependencies\n",
        "import tensorflow as tf\n",
        "from tensorflow.keras import layers\n",
        "from tensorflow.keras.datasets import mnist\n",
        "from tensorflow.keras.models import Sequential # to create an artificial neural network\n",
        "from tensorflow.keras.layers import Dense, Flatten, Dropout\n",
        "from tensorflow.keras.utils import to_categorical # to change it to 0s and 1s for One Hot Encoding\n",
        "import matplotlib.pyplot as plt\n",
        "import numpy as np"
      ],
      "metadata": {
        "id": "y8VGIlF6cEsS"
      },
      "execution_count": null,
      "outputs": []
    },
    {
      "cell_type": "markdown",
      "source": [
        "**One Hot Encoding**\n",
        "\n",
        "0 =   [1,0,0,0,0,0,0,0,0,0]\n",
        "\n",
        "1 =   [0,1,0,0,0,0,0,0,0,0]\n",
        "\n",
        "2 =   [0,0,1,0,0,0,0,0,0,0]\n",
        "\n",
        "3 =   [0,0,0,1,0,0,0,0,0,0]\n",
        "\n",
        "4 =   [0,0,0,0,1,0,0,0,0,0]\n",
        "\n",
        "5 =   [0,0,0,0,0,1,0,0,0,0]\n",
        "\n",
        "6 =   [0,0,0,0,0,0,1,0,0,0]\n",
        "\n",
        "7 =   [0,0,0,0,0,0,0,1,0,0]\n",
        "\n",
        "8 =   [0,0,0,0,0,0,0,0,1,0]\n",
        "\n",
        "9 =   [0,0,0,0,0,0,0,0,0,1]"
      ],
      "metadata": {
        "id": "dHuT_4gSd8Sn"
      }
    },
    {
      "cell_type": "markdown",
      "metadata": {
        "id": "57151226"
      },
      "source": [
        "1. **Load Dependencies:** Import necessary libraries like TensorFlow, Keras, and Matplotlib.\n",
        "2. **Load and Preprocess Data:** Load the MNIST dataset, normalize pixel values, and apply one-hot encoding to the labels.\n",
        "3. **Build Neural Network:** Create a sequential model with Flatten, Dense (with ReLU activation), and a final Dense layer (with Softmax activation).\n",
        "4. **Compile and Train Model:** Configure the model with Adam optimizer, categorical crossentropy loss, and accuracy metric. Train the model on the training data for a specified number of epochs and batch size, using a validation split.\n",
        "5. **Evaluate and Predict:** Evaluate the trained model on the test data and make predictions.\n",
        "6. **Visualize Results:** Display a selection of test images along with their predicted and true labels."
      ]
    },
    {
      "cell_type": "code",
      "source": [
        "# Load the dataset\n",
        "(x_train, y_train), (x_test, y_test) = mnist.load_data()\n",
        "\n",
        "# Normalize data\n",
        "x_train, x_test = x_train / 255.0, x_test / 255.0 # colour ranges from 0 to 255, anf the data is normalized by bringing it between 0 and 1 by dividing it by 255\n",
        "y_train = to_categorical(y_train, num_classes=10)\n",
        "y_test = to_categorical(y_test, num_classes=10)\n",
        "\n",
        "#Build Neural Network\n",
        "model = Sequential(\n",
        "    [ Flatten(input_shape=(28,28)), # convert it into a single array\n",
        "      Dense(128, activation='relu'), # input layer (can take 128 images at a time)\n",
        "      Dense(64, activation='relu'), # hidden layer = 64 (usually multiples of 2)\n",
        "      Dense(10, activation='softmax') # dense = interconnected neurons, softmax gives a set of probabilities from the range 0 to 1\n",
        "    ])\n",
        "\n",
        "# Compile the model\n",
        "model.compile(optimizer='adam',\n",
        "              loss='categorical_crossentropy', # when softmax is used in the last layer, cross entropy is used, loss func is used to compare actual result to predicted result, accuracy is the metric used\n",
        "              metrics=['accuracy'])\n",
        "\n",
        "# Train the model\n",
        "history = model.fit(x_train, y_train, epochs=5, batch_size=32, validation_split = 0.2) # at a time only 32 data(x,y) is used to save memory, using mini batch descent, number of iterations = (total/32)\n",
        "\n",
        "# Evaluate the model\n",
        "test_loss, test_acc = model.evaluate(x_test, y_test)\n",
        "predictions = model.predict(x_test)"
      ],
      "metadata": {
        "colab": {
          "base_uri": "https://localhost:8080/"
        },
        "id": "KID2GZgvce29",
        "outputId": "6e28f749-c5ad-4aae-ba58-9be918354747"
      },
      "execution_count": null,
      "outputs": [
        {
          "output_type": "stream",
          "name": "stdout",
          "text": [
            "Downloading data from https://storage.googleapis.com/tensorflow/tf-keras-datasets/mnist.npz\n",
            "\u001b[1m11490434/11490434\u001b[0m \u001b[32m━━━━━━━━━━━━━━━━━━━━\u001b[0m\u001b[37m\u001b[0m \u001b[1m0s\u001b[0m 0us/step\n"
          ]
        },
        {
          "output_type": "stream",
          "name": "stderr",
          "text": [
            "/usr/local/lib/python3.12/dist-packages/keras/src/layers/reshaping/flatten.py:37: UserWarning: Do not pass an `input_shape`/`input_dim` argument to a layer. When using Sequential models, prefer using an `Input(shape)` object as the first layer in the model instead.\n",
            "  super().__init__(**kwargs)\n"
          ]
        },
        {
          "output_type": "stream",
          "name": "stdout",
          "text": [
            "Epoch 1/5\n"
          ]
        }
      ]
    },
    {
      "cell_type": "code",
      "source": [
        "# Visualize the data\n",
        "plt.figure(figsize=(12, 6))\n",
        "for i in range(10):\n",
        "  idx = np.random.choice(len(x_test))\n",
        "  plt.subplot(2, 5, i + 1)\n",
        "  plt.imshow(x_test[idx], cmap='gray')\n",
        "  plt.title(f\"Predicted: {np.argmax(predictions[idx])}, True: {np.argmax(y_test[idx])}\") # np.argmax looks at the id where the probability is maximum and returns the index/position\n",
        "  plt.axis('off')\n",
        "plt.show()"
      ],
      "metadata": {
        "id": "atSBkgWLjzf3"
      },
      "execution_count": null,
      "outputs": []
    },
    {
      "cell_type": "code",
      "source": [],
      "metadata": {
        "id": "XKYPEFRtT__J"
      },
      "execution_count": null,
      "outputs": []
    }
  ]
}